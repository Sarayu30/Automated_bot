{
  "nbformat": 4,
  "nbformat_minor": 0,
  "metadata": {
    "colab": {
      "provenance": []
    },
    "kernelspec": {
      "name": "python3",
      "display_name": "Python 3"
    },
    "language_info": {
      "name": "python"
    }
  },
  "cells": [
    {
      "cell_type": "code",
      "execution_count": 1,
      "metadata": {
        "colab": {
          "base_uri": "https://localhost:8080/"
        },
        "id": "WccWBgTm2njd",
        "outputId": "603466c8-39b5-4e44-cf63-5dc6188dfb51"
      },
      "outputs": [
        {
          "output_type": "stream",
          "name": "stdout",
          "text": [
            "Requirement already satisfied: pandas in /usr/local/lib/python3.10/dist-packages (2.2.2)\n",
            "Collecting fpdf\n",
            "  Downloading fpdf-1.7.2.tar.gz (39 kB)\n",
            "  Preparing metadata (setup.py) ... \u001b[?25l\u001b[?25hdone\n",
            "Requirement already satisfied: numpy>=1.22.4 in /usr/local/lib/python3.10/dist-packages (from pandas) (1.26.4)\n",
            "Requirement already satisfied: python-dateutil>=2.8.2 in /usr/local/lib/python3.10/dist-packages (from pandas) (2.8.2)\n",
            "Requirement already satisfied: pytz>=2020.1 in /usr/local/lib/python3.10/dist-packages (from pandas) (2024.2)\n",
            "Requirement already satisfied: tzdata>=2022.7 in /usr/local/lib/python3.10/dist-packages (from pandas) (2024.2)\n",
            "Requirement already satisfied: six>=1.5 in /usr/local/lib/python3.10/dist-packages (from python-dateutil>=2.8.2->pandas) (1.16.0)\n",
            "Building wheels for collected packages: fpdf\n",
            "  Building wheel for fpdf (setup.py) ... \u001b[?25l\u001b[?25hdone\n",
            "  Created wheel for fpdf: filename=fpdf-1.7.2-py2.py3-none-any.whl size=40704 sha256=aaba7e187c457b86375560fde6d85df8fb97c517dc57c1b5566a05ccaced2560\n",
            "  Stored in directory: /root/.cache/pip/wheels/f9/95/ba/f418094659025eb9611f17cbcaf2334236bf39a0c3453ea455\n",
            "Successfully built fpdf\n",
            "Installing collected packages: fpdf\n",
            "Successfully installed fpdf-1.7.2\n"
          ]
        }
      ],
      "source": [
        "pip install pandas fpdf\n"
      ]
    },
    {
      "cell_type": "code",
      "source": [
        "import smtplib\n",
        "from email.mime.multipart import MIMEMultipart\n",
        "from email.mime.text import MIMEText\n",
        "from datetime import datetime, timedelta\n",
        "import time\n",
        "import threading\n",
        "\n",
        "# Configuration\n",
        "sender_email = 'your_email@example.com'\n",
        "sender_password = 'your_app_password_here'\n",
        "smtp_server = 'smtp.gmail.com'\n",
        "smtp_port = 587\n",
        "\n",
        "# Meeting details and participant emails\n",
        "participants = ['participant1@example.com', 'participant2@example.com']\n",
        "meeting_subject = \"Project Update Meeting\"\n",
        "meeting_datetime = datetime(2024, 11, 5, 10, 0)  # YYYY, MM, DD, HH, MM\n",
        "reminder_minutes = 15  # Send reminder 15 minutes before meeting\n",
        "\n",
        "def send_email(recipient_email, subject, body):\n",
        "    message = MIMEMultipart()\n",
        "    message['From'] = sender_email\n",
        "    message['To'] = recipient_email\n",
        "    message['Subject'] = subject\n",
        "    message.attach(MIMEText(body, 'plain'))\n",
        "\n",
        "    with smtplib.SMTP(smtp_server, smtp_port) as server:\n",
        "        server.starttls()\n",
        "        server.login(sender_email, sender_password)\n",
        "        server.sendmail(sender_email, recipient_email, message.as_string())\n",
        "\n",
        "def schedule_meeting():\n",
        "    meeting_details = f\"\"\"\n",
        "    Subject: {meeting_subject}\n",
        "    Date and Time: {meeting_datetime.strftime('%Y-%m-%d %H:%M')}\n",
        "    Platform: Zoom (link to be shared separately)\n",
        "    \"\"\"\n",
        "    subject = \"Meeting Scheduled: \" + meeting_subject\n",
        "    body = f\"Dear Participant,\\n\\nYou are invited to a scheduled meeting.\\n\\n{meeting_details}\\n\\nBest Regards,\\nYour Company\"\n",
        "\n",
        "    for participant in participants:\n",
        "        send_email(participant, subject, body)\n",
        "    print(\"Meeting details sent to participants.\")\n",
        "\n",
        "def send_reminder():\n",
        "    time_until_reminder = (meeting_datetime - timedelta(minutes=reminder_minutes)) - datetime.now()\n",
        "    if time_until_reminder.total_seconds() > 0:\n",
        "        print(f\"Waiting until {meeting_datetime - timedelta(minutes=reminder_minutes)} to send reminders...\")\n",
        "        time.sleep(time_until_reminder.total_seconds())\n",
        "\n",
        "    subject = \"Reminder: \" + meeting_subject\n",
        "    body = f\"Dear Participant,\\n\\nThis is a reminder for the upcoming meeting in {reminder_minutes} minutes.\\n\\nMeeting Details:\\nSubject: {meeting_subject}\\nDate and Time: {meeting_datetime.strftime('%Y-%m-%d %H:%M')}\\n\\nBest Regards,\\nYour Company\"\n",
        "\n",
        "    for participant in participants:\n",
        "        send_email(participant, subject, body)\n",
        "    print(\"Reminder sent to participants.\")\n",
        "\n",
        "# Run the scheduling and reminder in parallel\n",
        "if __name__ == \"__main__\":\n",
        "    # Schedule the initial meeting email\n",
        "    schedule_meeting()\n",
        "\n",
        "    # Start a thread to handle the reminder email\n",
        "    reminder_thread = threading.Thread(target=send_reminder)\n",
        "    reminder_thread.start()\n"
      ],
      "metadata": {
        "id": "N4qZCTYD31sY"
      },
      "execution_count": null,
      "outputs": []
    },
    {
      "cell_type": "markdown",
      "source": [
        "Output:\n",
        "Here's what the **output** flow would look like for this Automated Meeting Scheduling and Reminder Bot:\n",
        "\n",
        "1. **Initial Invite Email**:\n",
        "   - **Output in Console**:\n",
        "     ```\n",
        "     Initial invite sent to Sarayu@example.com\n",
        "     Initial invite sent to Krishna@example.com\n",
        "     Meeting scheduled for: November 5, 2024, at 10:00 AM\n",
        "     ```\n",
        "\n",
        "   - **Email in Participants' Inboxes**:\n",
        "     ```\n",
        "     Subject: Meeting Invitation: [Meeting Subject]\n",
        "     Dear [Participant's Name],\n",
        "\n",
        "     You are invited to a meeting scheduled for November 5, 2024, at 10:00 AM.\n",
        "     Topic: [Meeting Subject]\n",
        "\n",
        "     Please add it to your calendar and join promptly at the scheduled time.\n",
        "\n",
        "     Best Regards,\n",
        "     [Your Name or Company]\n",
        "     ```\n",
        "\n",
        "2. **Reminder Email** (sent 15 minutes before the meeting):\n",
        "   - **Output in Console**:\n",
        "     ```\n",
        "     Reminder sent to Sarayu@example.com\n",
        "     Reminder sent to Krishna@example.com\n",
        "     ```\n",
        "   \n",
        "   - **Reminder Email in Participants' Inboxes**:\n",
        "     ```\n",
        "     Subject: Reminder: Upcoming Meeting - [Meeting Subject]\n",
        "     Dear [Participant's Name],\n",
        "\n",
        "     This is a reminder that your meeting is scheduled to start in 15 minutes.\n",
        "\n",
        "     Meeting Details:\n",
        "     Date: November 5, 2024\n",
        "     Time: 10:00 AM\n",
        "     Topic: [Meeting Subject]\n",
        "\n",
        "     Best Regards,\n",
        "     [Your Name or Company]\n",
        "     ```\n",
        "\n",
        "3. **End of Script**:\n",
        "   - **Output in Console**:\n",
        "     ```\n",
        "     Meeting scheduled and reminder sent successfully.\n",
        "     ```\n",
        "\n",
        "---\n",
        "\n",
        "This output sequence ensures that all participants receive timely invitations and reminders, improving attendance and readiness for the meeting. You can modify the email content as needed by adjusting the body of the email in the `send_email` function."
      ],
      "metadata": {
        "id": "q7YfRyut39Es"
      }
    }
  ]
}